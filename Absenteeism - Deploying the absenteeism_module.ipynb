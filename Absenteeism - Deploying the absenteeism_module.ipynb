{
 "cells": [
  {
   "cell_type": "code",
   "execution_count": 2,
   "metadata": {},
   "outputs": [
    {
     "ename": "ModuleNotFoundError",
     "evalue": "No module named 'sklearn.linear_model.logistic'",
     "output_type": "error",
     "traceback": [
      "\u001b[1;31m---------------------------------------------------------------------------\u001b[0m",
      "\u001b[1;31mModuleNotFoundError\u001b[0m                       Traceback (most recent call last)",
      "\u001b[1;32mc:\\Users\\papab\\Desktop\\The Data Science Course 2021\\Analyzing Absenteeism in a Company using Maching Learning\\Absenteeism+Exercise+-+Deploying+the+'absenteeism_module'.ipynb Cell 1'\u001b[0m in \u001b[0;36m<cell line: 2>\u001b[1;34m()\u001b[0m\n\u001b[0;32m      <a href='vscode-notebook-cell:/c%3A/Users/papab/Desktop/The%20Data%20Science%20Course%202021/Analyzing%20Absenteeism%20in%20a%20Company%20using%20Maching%20Learning/Absenteeism%2BExercise%2B-%2BDeploying%2Bthe%2B%27absenteeism_module%27.ipynb#ch0000000?line=0'>1</a>\u001b[0m \u001b[39mfrom\u001b[39;00m \u001b[39mabsenteeism_module\u001b[39;00m \u001b[39mimport\u001b[39;00m \u001b[39m*\u001b[39m\n\u001b[1;32m----> <a href='vscode-notebook-cell:/c%3A/Users/papab/Desktop/The%20Data%20Science%20Course%202021/Analyzing%20Absenteeism%20in%20a%20Company%20using%20Maching%20Learning/Absenteeism%2BExercise%2B-%2BDeploying%2Bthe%2B%27absenteeism_module%27.ipynb#ch0000000?line=1'>2</a>\u001b[0m model \u001b[39m=\u001b[39m absenteeism_model(\u001b[39m'\u001b[39;49m\u001b[39mmodel\u001b[39;49m\u001b[39m'\u001b[39;49m, \u001b[39m'\u001b[39;49m\u001b[39mscaler\u001b[39;49m\u001b[39m'\u001b[39;49m)\n\u001b[0;32m      <a href='vscode-notebook-cell:/c%3A/Users/papab/Desktop/The%20Data%20Science%20Course%202021/Analyzing%20Absenteeism%20in%20a%20Company%20using%20Maching%20Learning/Absenteeism%2BExercise%2B-%2BDeploying%2Bthe%2B%27absenteeism_module%27.ipynb#ch0000000?line=3'>4</a>\u001b[0m model\u001b[39m.\u001b[39mload_and_clean_data(\u001b[39m'\u001b[39m\u001b[39mAbsenteeism_new_data.csv\u001b[39m\u001b[39m'\u001b[39m)\n\u001b[0;32m      <a href='vscode-notebook-cell:/c%3A/Users/papab/Desktop/The%20Data%20Science%20Course%202021/Analyzing%20Absenteeism%20in%20a%20Company%20using%20Maching%20Learning/Absenteeism%2BExercise%2B-%2BDeploying%2Bthe%2B%27absenteeism_module%27.ipynb#ch0000000?line=5'>6</a>\u001b[0m model\u001b[39m.\u001b[39mpredicted_outputs()\n",
      "File \u001b[1;32mc:\\Users\\papab\\Desktop\\The Data Science Course 2021\\Analyzing Absenteeism in a Company using Maching Learning\\absenteeism_module.py:42\u001b[0m, in \u001b[0;36mabsenteeism_model.__init__\u001b[1;34m(self, model_file, scaler_file)\u001b[0m\n\u001b[0;32m     39\u001b[0m \u001b[39mdef\u001b[39;00m \u001b[39m__init__\u001b[39m(\u001b[39mself\u001b[39m, model_file, scaler_file):\n\u001b[0;32m     40\u001b[0m     \u001b[39m# read the 'model' and 'scaler' files which were saved\u001b[39;00m\n\u001b[0;32m     41\u001b[0m     \u001b[39mwith\u001b[39;00m \u001b[39mopen\u001b[39m(\u001b[39m'\u001b[39m\u001b[39mmodel\u001b[39m\u001b[39m'\u001b[39m,\u001b[39m'\u001b[39m\u001b[39mrb\u001b[39m\u001b[39m'\u001b[39m) \u001b[39mas\u001b[39;00m model_file, \u001b[39mopen\u001b[39m(\u001b[39m'\u001b[39m\u001b[39mscaler\u001b[39m\u001b[39m'\u001b[39m, \u001b[39m'\u001b[39m\u001b[39mrb\u001b[39m\u001b[39m'\u001b[39m) \u001b[39mas\u001b[39;00m scaler_file:\n\u001b[1;32m---> 42\u001b[0m         \u001b[39mself\u001b[39m\u001b[39m.\u001b[39mreg \u001b[39m=\u001b[39m pickle\u001b[39m.\u001b[39;49mload(model_file)\n\u001b[0;32m     43\u001b[0m         \u001b[39mself\u001b[39m\u001b[39m.\u001b[39mscaler \u001b[39m=\u001b[39m pickle\u001b[39m.\u001b[39mload(scaler_file)\n\u001b[0;32m     44\u001b[0m         \u001b[39mself\u001b[39m\u001b[39m.\u001b[39mdata \u001b[39m=\u001b[39m \u001b[39mNone\u001b[39;00m\n",
      "\u001b[1;31mModuleNotFoundError\u001b[0m: No module named 'sklearn.linear_model.logistic'"
     ]
    }
   ],
   "source": [
    "from absenteeism_module import *\n",
    "model = absenteeism_model('model', 'scaler')\n",
    "\n",
    "model.load_and_clean_data('Absenteeism_new_data.csv')\n",
    "\n",
    "model.predicted_outputs()"
   ]
  },
  {
   "cell_type": "code",
   "execution_count": null,
   "metadata": {},
   "outputs": [],
   "source": [
    "model.predicted_outputs().to_csv('Absenteeism_predictions.csv', index = False)"
   ]
  }
 ],
 "metadata": {
  "kernelspec": {
   "display_name": "Python 3.10.4 64-bit",
   "language": "python",
   "name": "python3"
  },
  "language_info": {
   "codemirror_mode": {
    "name": "ipython",
    "version": 3
   },
   "file_extension": ".py",
   "mimetype": "text/x-python",
   "name": "python",
   "nbconvert_exporter": "python",
   "pygments_lexer": "ipython3",
   "version": "3.10.4"
  },
  "vscode": {
   "interpreter": {
    "hash": "369f2c481f4da34e4445cda3fffd2e751bd1c4d706f27375911949ba6bb62e1c"
   }
  }
 },
 "nbformat": 4,
 "nbformat_minor": 2
}
